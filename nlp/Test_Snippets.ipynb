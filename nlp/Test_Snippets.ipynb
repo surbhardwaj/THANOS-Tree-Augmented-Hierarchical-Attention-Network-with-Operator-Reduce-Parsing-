{
 "cells": [
  {
   "cell_type": "code",
   "execution_count": 20,
   "metadata": {
    "collapsed": true
   },
   "outputs": [],
   "source": [
    "vocab_to_index = {}"
   ]
  },
  {
   "cell_type": "code",
   "execution_count": 21,
   "metadata": {
    "collapsed": true
   },
   "outputs": [],
   "source": [
    "with open('data/vocab.txt', 'r') as f:\n",
    "    for i, word in enumerate(f):\n",
    "        vocab_to_index[word.rstrip('\\n')] = i+1\n",
    "        "
   ]
  },
  {
   "cell_type": "code",
   "execution_count": 1,
   "metadata": {
    "collapsed": true
   },
   "outputs": [],
   "source": [
    "import pandas as pd\n",
    "import pickle"
   ]
  },
  {
   "cell_type": "code",
   "execution_count": 2,
   "metadata": {
    "collapsed": true
   },
   "outputs": [],
   "source": [
    "location = 'C:\\\\Users\\\\surbhi.bhardwaj\\\\Desktop\\\\Data_Sur\\\\NLP\\\\Pytorch_examples\\\\cs230-code-examples-master\\\\cs230-code-examples-master\\\\pytorch\\\\nlp\\\\data\\\\'"
   ]
  },
  {
   "cell_type": "code",
   "execution_count": 6,
   "metadata": {
    "collapsed": true
   },
   "outputs": [],
   "source": [
    "with open(location+\"unk700.pkl\", 'rb') as f:\n",
    "     sent = pickle.load(f)"
   ]
  },
  {
   "cell_type": "code",
   "execution_count": 7,
   "metadata": {
    "collapsed": true
   },
   "outputs": [],
   "source": [
    "with open(location+\"Parsedtree700.pkl\", 'rb') as f:\n",
    "     Tree = pickle.load(f)"
   ]
  },
  {
   "cell_type": "code",
   "execution_count": 8,
   "metadata": {
    "collapsed": true
   },
   "outputs": [],
   "source": [
    "data = zip(Tree, sent)"
   ]
  },
  {
   "cell_type": "code",
   "execution_count": 9,
   "metadata": {
    "collapsed": true
   },
   "outputs": [],
   "source": [
    "data = list(data)"
   ]
  },
  {
   "cell_type": "code",
   "execution_count": 10,
   "metadata": {
    "collapsed": true
   },
   "outputs": [],
   "source": [
    "tree_dat = pd.DataFrame(data, columns=['Tree', 'Sent'])"
   ]
  },
  {
   "cell_type": "code",
   "execution_count": 11,
   "metadata": {},
   "outputs": [
    {
     "data": {
      "text/html": [
       "<div>\n",
       "<style>\n",
       "    .dataframe thead tr:only-child th {\n",
       "        text-align: right;\n",
       "    }\n",
       "\n",
       "    .dataframe thead th {\n",
       "        text-align: left;\n",
       "    }\n",
       "\n",
       "    .dataframe tbody tr th {\n",
       "        vertical-align: top;\n",
       "    }\n",
       "</style>\n",
       "<table border=\"1\" class=\"dataframe\">\n",
       "  <thead>\n",
       "    <tr style=\"text-align: right;\">\n",
       "      <th></th>\n",
       "      <th>Tree</th>\n",
       "      <th>Sent</th>\n",
       "    </tr>\n",
       "  </thead>\n",
       "  <tbody>\n",
       "    <tr>\n",
       "      <th>777</th>\n",
       "      <td>[( it ( ( ( took over ) ( ( 40 years ) ( until...</td>\n",
       "      <td>[it took over NUMTOKEN years until UNK was mad...</td>\n",
       "    </tr>\n",
       "    <tr>\n",
       "      <th>778</th>\n",
       "      <td>[( i ( ( can ( ( ( identify ( a lot ) ) ( with...</td>\n",
       "      <td>[i can identify a lot with the deer hunter bec...</td>\n",
       "    </tr>\n",
       "    <tr>\n",
       "      <th>779</th>\n",
       "      <td>[( ( ( one kind ) ( of ( film ( that ( ( unive...</td>\n",
       "      <td>[one kind of film that universal UNK did bette...</td>\n",
       "    </tr>\n",
       "    <tr>\n",
       "      <th>780</th>\n",
       "      <td>[( ( when ( pierre ( ( ( sits down ) and ) ( t...</td>\n",
       "      <td>[when pierre UNK down and tells katya that he ...</td>\n",
       "    </tr>\n",
       "    <tr>\n",
       "      <th>781</th>\n",
       "      <td>[( ( ( ( ( ( a ( sweet ( little kid ) ) ) ( ( ...</td>\n",
       "      <td>[a sweet little kid makes a wish that his UNK ...</td>\n",
       "    </tr>\n",
       "  </tbody>\n",
       "</table>\n",
       "</div>"
      ],
      "text/plain": [
       "                                                  Tree  \\\n",
       "777  [( it ( ( ( took over ) ( ( 40 years ) ( until...   \n",
       "778  [( i ( ( can ( ( ( identify ( a lot ) ) ( with...   \n",
       "779  [( ( ( one kind ) ( of ( film ( that ( ( unive...   \n",
       "780  [( ( when ( pierre ( ( ( sits down ) and ) ( t...   \n",
       "781  [( ( ( ( ( ( a ( sweet ( little kid ) ) ) ( ( ...   \n",
       "\n",
       "                                                  Sent  \n",
       "777  [it took over NUMTOKEN years until UNK was mad...  \n",
       "778  [i can identify a lot with the deer hunter bec...  \n",
       "779  [one kind of film that universal UNK did bette...  \n",
       "780  [when pierre UNK down and tells katya that he ...  \n",
       "781  [a sweet little kid makes a wish that his UNK ...  "
      ]
     },
     "execution_count": 11,
     "metadata": {},
     "output_type": "execute_result"
    }
   ],
   "source": [
    "tree_dat.tail(5)"
   ]
  },
  {
   "cell_type": "code",
   "execution_count": 12,
   "metadata": {},
   "outputs": [
    {
     "name": "stderr",
     "output_type": "stream",
     "text": [
      "C:\\Users\\surbhi.bhardwaj\\AppData\\Local\\Continuum\\anaconda3\\lib\\site-packages\\IPython\\core\\interactiveshell.py:2698: DtypeWarning: Columns (2,3,4,5,6,7,8,9,10,11,12,13,14,15,16,17,18,19,20,21,22,23,24,25,26,27,28,29,30,31,32,33,34,35,36,37,38,39,40,41,42,43,44,45,46,47,48,49,50,51) have mixed types. Specify dtype option on import or set low_memory=False.\n",
      "  interactivity=interactivity, compiler=compiler, result=result)\n"
     ]
    }
   ],
   "source": [
    "dat = pd.read_csv('C:/Users/surbhi.bhardwaj/Desktop/IMDB_sample.csv')\n"
   ]
  },
  {
   "cell_type": "code",
   "execution_count": 13,
   "metadata": {
    "collapsed": true
   },
   "outputs": [],
   "source": [
    "dat = dat[['Trees', 'rating']]\n",
    "dat = dat['rating'].head(782)"
   ]
  },
  {
   "cell_type": "code",
   "execution_count": 14,
   "metadata": {
    "collapsed": true
   },
   "outputs": [],
   "source": [
    "tree_dat['rating'] = dat"
   ]
  },
  {
   "cell_type": "code",
   "execution_count": 15,
   "metadata": {
    "collapsed": true
   },
   "outputs": [],
   "source": [
    "train = tree_dat.head(548)\n",
    "ab = tree_dat.tail(234)\n",
    "test = ab.head(78)\n",
    "dev = ab.tail(156)"
   ]
  },
  {
   "cell_type": "code",
   "execution_count": 74,
   "metadata": {
    "collapsed": true
   },
   "outputs": [],
   "source": [
    "location = 'C:\\\\Users\\\\surbhi.bhardwaj\\\\Desktop\\\\Data_Sur\\\\NLP\\\\Pytorch_examples\\\\cs230-code-examples-master\\\\cs230-code-examples-master\\\\pytorch\\\\nlp\\\\data\\\\'"
   ]
  },
  {
   "cell_type": "code",
   "execution_count": 16,
   "metadata": {
    "collapsed": true
   },
   "outputs": [],
   "source": [
    "train.to_pickle(location+\"train.pkl\")\n",
    "test.to_pickle(location+\"test.pkl\")\n",
    "dev.to_pickle(location+\"dev.pkl\")"
   ]
  },
  {
   "cell_type": "code",
   "execution_count": 17,
   "metadata": {
    "collapsed": true
   },
   "outputs": [],
   "source": [
    "train = pd.read_pickle(location+\"train.pkl\")"
   ]
  },
  {
   "cell_type": "code",
   "execution_count": 18,
   "metadata": {},
   "outputs": [
    {
     "data": {
      "text/html": [
       "<div>\n",
       "<style>\n",
       "    .dataframe thead tr:only-child th {\n",
       "        text-align: right;\n",
       "    }\n",
       "\n",
       "    .dataframe thead th {\n",
       "        text-align: left;\n",
       "    }\n",
       "\n",
       "    .dataframe tbody tr th {\n",
       "        vertical-align: top;\n",
       "    }\n",
       "</style>\n",
       "<table border=\"1\" class=\"dataframe\">\n",
       "  <thead>\n",
       "    <tr style=\"text-align: right;\">\n",
       "      <th></th>\n",
       "      <th>Tree</th>\n",
       "      <th>Sent</th>\n",
       "      <th>rating</th>\n",
       "    </tr>\n",
       "  </thead>\n",
       "  <tbody>\n",
       "    <tr>\n",
       "      <th>0</th>\n",
       "      <td>[( ( ( ( ( i ( ( excepted ( a lot ) ) ( from (...</td>\n",
       "      <td>[i UNK a lot from this movie , and it did deli...</td>\n",
       "      <td>10</td>\n",
       "    </tr>\n",
       "    <tr>\n",
       "      <th>1</th>\n",
       "      <td>[( ( this movie ) ( ( ( is not ) ( worth seein...</td>\n",
       "      <td>[this movie is not worth seeing ., has no meri...</td>\n",
       "      <td>1</td>\n",
       "    </tr>\n",
       "    <tr>\n",
       "      <th>2</th>\n",
       "      <td>[( this ( ( is ( a ( great movie ) ) ) ! ) ), ...</td>\n",
       "      <td>[this is a great movie !, it is so funny ., th...</td>\n",
       "      <td>10</td>\n",
       "    </tr>\n",
       "    <tr>\n",
       "      <th>3</th>\n",
       "      <td>[( there ( ( 's ( ( a kid ) ( in ( ( this film...</td>\n",
       "      <td>[there 's a kid in this film that UNK me ., he...</td>\n",
       "      <td>6</td>\n",
       "    </tr>\n",
       "    <tr>\n",
       "      <th>4</th>\n",
       "      <td>[( ( ( ( john hall ) ( -lrb- ( david andrews )...</td>\n",
       "      <td>[john hall -lrb- david UNK -rrb- is a UNK look...</td>\n",
       "      <td>8</td>\n",
       "    </tr>\n",
       "    <tr>\n",
       "      <th>5</th>\n",
       "      <td>[( ( ( ( ( ( the ( maltese falcon ) ) ( ( may ...</td>\n",
       "      <td>[the UNK UNK may n't be the best movie i have ...</td>\n",
       "      <td>10</td>\n",
       "    </tr>\n",
       "    <tr>\n",
       "      <th>6</th>\n",
       "      <td>[( ( ( ( ( i ( do ( like ( ( a ( vast majority...</td>\n",
       "      <td>[i do like a vast majority of steven spielberg...</td>\n",
       "      <td>10</td>\n",
       "    </tr>\n",
       "    <tr>\n",
       "      <th>7</th>\n",
       "      <td>[( ( blades ( of glory ) ) ( ( ( is ( far ( fr...</td>\n",
       "      <td>[UNK of UNK is far from a masterpiece having a...</td>\n",
       "      <td>7</td>\n",
       "    </tr>\n",
       "    <tr>\n",
       "      <th>8</th>\n",
       "      <td>[( it ( ( has ( been ( said ( that ( ( spencer...</td>\n",
       "      <td>[it has been said that UNK tracy treated UNK h...</td>\n",
       "      <td>9</td>\n",
       "    </tr>\n",
       "    <tr>\n",
       "      <th>9</th>\n",
       "      <td>[( ( ( ( ( ( to ( be honest ) ) ( , ( i ( ( wa...</td>\n",
       "      <td>[to be honest , i was n't expecting much when ...</td>\n",
       "      <td>7</td>\n",
       "    </tr>\n",
       "    <tr>\n",
       "      <th>10</th>\n",
       "      <td>[( ( ( ( ( ( ( ( my ( favourite director ) ) ,...</td>\n",
       "      <td>[my favourite director , alfred hitchcock has ...</td>\n",
       "      <td>9</td>\n",
       "    </tr>\n",
       "    <tr>\n",
       "      <th>11</th>\n",
       "      <td>[( that ( ( ( is not ) ( to ( say ( ( this ( f...</td>\n",
       "      <td>[that is not to say this fright night is terri...</td>\n",
       "      <td>6</td>\n",
       "    </tr>\n",
       "    <tr>\n",
       "      <th>12</th>\n",
       "      <td>[( ( ( ( ( ( license ( to wed ) ) ( is ( ( no ...</td>\n",
       "      <td>[license to UNK is no masterpiece in any UNK o...</td>\n",
       "      <td>6</td>\n",
       "    </tr>\n",
       "    <tr>\n",
       "      <th>13</th>\n",
       "      <td>[( ( ( a ( ( truly excellent ) film ) ) ( in (...</td>\n",
       "      <td>[a truly excellent film in my opinion , UNK hi...</td>\n",
       "      <td>9</td>\n",
       "    </tr>\n",
       "    <tr>\n",
       "      <th>14</th>\n",
       "      <td>[( ( ( ( ( i ( have ( to ( say ( i ( ( am not ...</td>\n",
       "      <td>[i have to say i am not a fan generally of UNK...</td>\n",
       "      <td>10</td>\n",
       "    </tr>\n",
       "    <tr>\n",
       "      <th>15</th>\n",
       "      <td>[( ( ( a ( young man ) ) ( by ( ( his ( late t...</td>\n",
       "      <td>[a young man by his late UNK -lrb- sam UNK -rr...</td>\n",
       "      <td>9</td>\n",
       "    </tr>\n",
       "    <tr>\n",
       "      <th>16</th>\n",
       "      <td>[( ( ( ( ( okay ( , ( it ( ( was ( marginally ...</td>\n",
       "      <td>[okay , it was marginally better than i expect...</td>\n",
       "      <td>3</td>\n",
       "    </tr>\n",
       "    <tr>\n",
       "      <th>17</th>\n",
       "      <td>[( ( this film ) ( ( ( ( ( ( is ( a little ) )...</td>\n",
       "      <td>[this film is a little too long , and does n't...</td>\n",
       "      <td>8</td>\n",
       "    </tr>\n",
       "    <tr>\n",
       "      <th>18</th>\n",
       "      <td>[( ( ( ( ( i ( love musicals ) ) , ) and ) ( (...</td>\n",
       "      <td>[i love musicals , and little shop of horrors ...</td>\n",
       "      <td>9</td>\n",
       "    </tr>\n",
       "    <tr>\n",
       "      <th>19</th>\n",
       "      <td>[( ( this ( sci-fi fantasy ) ) ( ( had ( ( a l...</td>\n",
       "      <td>[this sci-fi fantasy had a lot of UNK to be gr...</td>\n",
       "      <td>9</td>\n",
       "    </tr>\n",
       "    <tr>\n",
       "      <th>20</th>\n",
       "      <td>[( ( ( no scratch ) that ) . ), ( chinatown ( ...</td>\n",
       "      <td>[no UNK that ., chinatown is actually my perso...</td>\n",
       "      <td>10</td>\n",
       "    </tr>\n",
       "    <tr>\n",
       "      <th>21</th>\n",
       "      <td>[( ( ( ( ( i ( really ( liked ( the ( first mo...</td>\n",
       "      <td>[i really liked the first movie , and i think ...</td>\n",
       "      <td>8</td>\n",
       "    </tr>\n",
       "    <tr>\n",
       "      <th>22</th>\n",
       "      <td>[( ( as ( part ( of ( my ( bergman marathon ) ...</td>\n",
       "      <td>[as part of my bergman UNK , some for the firs...</td>\n",
       "      <td>10</td>\n",
       "    </tr>\n",
       "    <tr>\n",
       "      <th>23</th>\n",
       "      <td>[( i ( ( ( ( have ( nothing ( against ( sit-co...</td>\n",
       "      <td>[i have nothing against UNK in general , as lo...</td>\n",
       "      <td>10</td>\n",
       "    </tr>\n",
       "    <tr>\n",
       "      <th>24</th>\n",
       "      <td>[( ( ( ( ( yes ( , ( you ( may ( ( be ( scepti...</td>\n",
       "      <td>[yes , you may be UNK of the casting if you sa...</td>\n",
       "      <td>9</td>\n",
       "    </tr>\n",
       "    <tr>\n",
       "      <th>25</th>\n",
       "      <td>[( admittedly ( , ( ( ( ( i ( ( did not ) ( ( ...</td>\n",
       "      <td>[admittedly , i did not like this film at firs...</td>\n",
       "      <td>8</td>\n",
       "    </tr>\n",
       "    <tr>\n",
       "      <th>26</th>\n",
       "      <td>[( ( ( james ( g. ballard ) ) ( ( -lrb- james ...</td>\n",
       "      <td>[james UNK. ballard -lrb- james UNK -rrb- is a...</td>\n",
       "      <td>8</td>\n",
       "    </tr>\n",
       "    <tr>\n",
       "      <th>27</th>\n",
       "      <td>[( ( from ( shane meadows ) ) ( ( ( come ( thi...</td>\n",
       "      <td>[from shane UNK come this is england , a terri...</td>\n",
       "      <td>9</td>\n",
       "    </tr>\n",
       "    <tr>\n",
       "      <th>28</th>\n",
       "      <td>[( ( ( ( ( i ( love musicals ) ) , ) and ) ( (...</td>\n",
       "      <td>[i love musicals , and i heard a lot about sev...</td>\n",
       "      <td>10</td>\n",
       "    </tr>\n",
       "    <tr>\n",
       "      <th>29</th>\n",
       "      <td>[( i ( ( ( ( saw ( the bat ) ) mainly ) ( for ...</td>\n",
       "      <td>[i saw the UNK mainly for one of my favourite ...</td>\n",
       "      <td>7</td>\n",
       "    </tr>\n",
       "    <tr>\n",
       "      <th>...</th>\n",
       "      <td>...</td>\n",
       "      <td>...</td>\n",
       "      <td>...</td>\n",
       "    </tr>\n",
       "    <tr>\n",
       "      <th>518</th>\n",
       "      <td>[( christian ( ( is ( ( a ( penniless writer )...</td>\n",
       "      <td>[christian is a UNK writer who comes to paris ...</td>\n",
       "      <td>8</td>\n",
       "    </tr>\n",
       "    <tr>\n",
       "      <th>519</th>\n",
       "      <td>[( ( last winter ) ( ( ( ( i ( was ( walking (...</td>\n",
       "      <td>[last UNK i was UNK outside , but not very far...</td>\n",
       "      <td>1</td>\n",
       "    </tr>\n",
       "    <tr>\n",
       "      <th>520</th>\n",
       "      <td>[( ( ( ( ( by ( ( some ( considerable margin )...</td>\n",
       "      <td>[by some considerable UNK the worst film i hav...</td>\n",
       "      <td>1</td>\n",
       "    </tr>\n",
       "    <tr>\n",
       "      <th>521</th>\n",
       "      <td>[( ( ( ( ( ( the reviews ) ( have ( ( said eve...</td>\n",
       "      <td>[the reviews have said everything there is to ...</td>\n",
       "      <td>8</td>\n",
       "    </tr>\n",
       "    <tr>\n",
       "      <th>522</th>\n",
       "      <td>[( ( watched ( for ( ( first time ) ( in ( ove...</td>\n",
       "      <td>[watched for first time in over NUMTOKEN years...</td>\n",
       "      <td>6</td>\n",
       "    </tr>\n",
       "    <tr>\n",
       "      <th>523</th>\n",
       "      <td>[( i ( ( 've ( ( absolutely ( no idea ) ) ( wh...</td>\n",
       "      <td>[i 'UNK absolutely no idea what ` UNK ' is ., ...</td>\n",
       "      <td>3</td>\n",
       "    </tr>\n",
       "    <tr>\n",
       "      <th>524</th>\n",
       "      <td>[( ( sums ( ( it up ) really ) ) . ), ( ( ( ( ...</td>\n",
       "      <td>[UNK it up really ., the first film was comple...</td>\n",
       "      <td>1</td>\n",
       "    </tr>\n",
       "    <tr>\n",
       "      <th>525</th>\n",
       "      <td>[( ( a ( famous politician ) ) ( ( ( ( ( is mu...</td>\n",
       "      <td>[a famous UNK is murdered and is by chance fil...</td>\n",
       "      <td>8</td>\n",
       "    </tr>\n",
       "    <tr>\n",
       "      <th>526</th>\n",
       "      <td>[( ( spoilers ( throughout i ) ) ( ( ( was ( i...</td>\n",
       "      <td>[UNK throughout i was in shock at the end of t...</td>\n",
       "      <td>2</td>\n",
       "    </tr>\n",
       "    <tr>\n",
       "      <th>527</th>\n",
       "      <td>[( i ( ( ( ca n't ) ( believe ( ( this film ) ...</td>\n",
       "      <td>[i ca n't believe this film is n't in the top ...</td>\n",
       "      <td>9</td>\n",
       "    </tr>\n",
       "    <tr>\n",
       "      <th>528</th>\n",
       "      <td>[( this ( ( was great ) . ) ), ( people ( ( ex...</td>\n",
       "      <td>[this was great ., people UNK the amount of ro...</td>\n",
       "      <td>8</td>\n",
       "    </tr>\n",
       "    <tr>\n",
       "      <th>529</th>\n",
       "      <td>[( ( 7/10 ( for ( this one ) ) ) . ), ( stagge...</td>\n",
       "      <td>[NUMTOKEN/NUMTOKEN for this one ., UNK though ...</td>\n",
       "      <td>7</td>\n",
       "    </tr>\n",
       "    <tr>\n",
       "      <th>530</th>\n",
       "      <td>[( ( ( ( ( an ( ( slightly above ) ( average f...</td>\n",
       "      <td>[an slightly above average film , never boring...</td>\n",
       "      <td>7</td>\n",
       "    </tr>\n",
       "    <tr>\n",
       "      <th>531</th>\n",
       "      <td>[( ( ( ( lots ( of noise ) ) , ) ( lots ( of (...</td>\n",
       "      <td>[lots of noise , lots of people UNK `` fire ''...</td>\n",
       "      <td>3</td>\n",
       "    </tr>\n",
       "    <tr>\n",
       "      <th>532</th>\n",
       "      <td>[( ( ( ( ( i love ) ( hitchcock films ) ) ( , ...</td>\n",
       "      <td>[i love hitchcock films , but to UNK this as t...</td>\n",
       "      <td>7</td>\n",
       "    </tr>\n",
       "    <tr>\n",
       "      <th>533</th>\n",
       "      <td>[( ( on ( ( the ( plus side ) ) ( of ( this fi...</td>\n",
       "      <td>[on the plus side of this film , the NUMTOKEN ...</td>\n",
       "      <td>5</td>\n",
       "    </tr>\n",
       "    <tr>\n",
       "      <th>534</th>\n",
       "      <td>[( ted ( - ( ( ( ( 200 farts ) &amp; ) ( a ( car c...</td>\n",
       "      <td>[ted - NUMTOKEN UNK &amp; a car chase ., utterly U...</td>\n",
       "      <td>1</td>\n",
       "    </tr>\n",
       "    <tr>\n",
       "      <th>535</th>\n",
       "      <td>[( ( spoilers within ) ( ( ( am probably ) ( (...</td>\n",
       "      <td>[UNK within am probably going out on a UNK her...</td>\n",
       "      <td>2</td>\n",
       "    </tr>\n",
       "    <tr>\n",
       "      <th>536</th>\n",
       "      <td>[( ( james bond ) ( ( ( is ( back ( on top ) )...</td>\n",
       "      <td>[james bond is back on top after the terrible ...</td>\n",
       "      <td>8</td>\n",
       "    </tr>\n",
       "    <tr>\n",
       "      <th>537</th>\n",
       "      <td>[( ( most ( of ( ( the imdb ) ( ( top 30 ) i )...</td>\n",
       "      <td>[most of the imdb top NUMTOKEN i disagree with...</td>\n",
       "      <td>9</td>\n",
       "    </tr>\n",
       "    <tr>\n",
       "      <th>538</th>\n",
       "      <td>[( great ( film . ) ), ( ( if ( we ( are ( to ...</td>\n",
       "      <td>[great film ., if we are to continue to get , ...</td>\n",
       "      <td>9</td>\n",
       "    </tr>\n",
       "    <tr>\n",
       "      <th>539</th>\n",
       "      <td>[( ( ( could n't ) ( ( help ( feeling ( very (...</td>\n",
       "      <td>[could n't help feeling very let down &amp; disapp...</td>\n",
       "      <td>3</td>\n",
       "    </tr>\n",
       "    <tr>\n",
       "      <th>540</th>\n",
       "      <td>[( it ( ( 's ( an ( abysmal show ) ) ) . ) ), ...</td>\n",
       "      <td>[it 's an UNK show ., i 'UNK never ever got th...</td>\n",
       "      <td>1</td>\n",
       "    </tr>\n",
       "    <tr>\n",
       "      <th>541</th>\n",
       "      <td>[( this ( ( ( ( had ( ( the premise ) ( of ( a...</td>\n",
       "      <td>[this had the premise of a good film , in fact...</td>\n",
       "      <td>3</td>\n",
       "    </tr>\n",
       "    <tr>\n",
       "      <th>542</th>\n",
       "      <td>[( ( at least ) ( , ( ( given ( ( the ( impecc...</td>\n",
       "      <td>[at least , given the impeccable standards UNK...</td>\n",
       "      <td>5</td>\n",
       "    </tr>\n",
       "    <tr>\n",
       "      <th>543</th>\n",
       "      <td>[( ( ridiculously ( over ( ( the ( top charact...</td>\n",
       "      <td>[ridiculously over the top characters UNK this...</td>\n",
       "      <td>3</td>\n",
       "    </tr>\n",
       "    <tr>\n",
       "      <th>544</th>\n",
       "      <td>[( ( of ( ( all ( the hundreds ) ) ( of ( revi...</td>\n",
       "      <td>[of all the UNK of reviews to this film on her...</td>\n",
       "      <td>3</td>\n",
       "    </tr>\n",
       "    <tr>\n",
       "      <th>545</th>\n",
       "      <td>[( i ( ( ( 'm not ) ( ( going ( to ( ( ( spend...</td>\n",
       "      <td>[i 'UNK not going to spend much time on this a...</td>\n",
       "      <td>3</td>\n",
       "    </tr>\n",
       "    <tr>\n",
       "      <th>546</th>\n",
       "      <td>[( ( miss ( potter ( is ( ( a film ) ( that ( ...</td>\n",
       "      <td>[miss potter is a film that is beautiful to wa...</td>\n",
       "      <td>8</td>\n",
       "    </tr>\n",
       "    <tr>\n",
       "      <th>547</th>\n",
       "      <td>[( aliens ( ( is ( ( the sequel ) ( to alien )...</td>\n",
       "      <td>[aliens is the sequel to alien ., the planet w...</td>\n",
       "      <td>9</td>\n",
       "    </tr>\n",
       "  </tbody>\n",
       "</table>\n",
       "<p>548 rows × 3 columns</p>\n",
       "</div>"
      ],
      "text/plain": [
       "                                                  Tree  \\\n",
       "0    [( ( ( ( ( i ( ( excepted ( a lot ) ) ( from (...   \n",
       "1    [( ( this movie ) ( ( ( is not ) ( worth seein...   \n",
       "2    [( this ( ( is ( a ( great movie ) ) ) ! ) ), ...   \n",
       "3    [( there ( ( 's ( ( a kid ) ( in ( ( this film...   \n",
       "4    [( ( ( ( john hall ) ( -lrb- ( david andrews )...   \n",
       "5    [( ( ( ( ( ( the ( maltese falcon ) ) ( ( may ...   \n",
       "6    [( ( ( ( ( i ( do ( like ( ( a ( vast majority...   \n",
       "7    [( ( blades ( of glory ) ) ( ( ( is ( far ( fr...   \n",
       "8    [( it ( ( has ( been ( said ( that ( ( spencer...   \n",
       "9    [( ( ( ( ( ( to ( be honest ) ) ( , ( i ( ( wa...   \n",
       "10   [( ( ( ( ( ( ( ( my ( favourite director ) ) ,...   \n",
       "11   [( that ( ( ( is not ) ( to ( say ( ( this ( f...   \n",
       "12   [( ( ( ( ( ( license ( to wed ) ) ( is ( ( no ...   \n",
       "13   [( ( ( a ( ( truly excellent ) film ) ) ( in (...   \n",
       "14   [( ( ( ( ( i ( have ( to ( say ( i ( ( am not ...   \n",
       "15   [( ( ( a ( young man ) ) ( by ( ( his ( late t...   \n",
       "16   [( ( ( ( ( okay ( , ( it ( ( was ( marginally ...   \n",
       "17   [( ( this film ) ( ( ( ( ( ( is ( a little ) )...   \n",
       "18   [( ( ( ( ( i ( love musicals ) ) , ) and ) ( (...   \n",
       "19   [( ( this ( sci-fi fantasy ) ) ( ( had ( ( a l...   \n",
       "20   [( ( ( no scratch ) that ) . ), ( chinatown ( ...   \n",
       "21   [( ( ( ( ( i ( really ( liked ( the ( first mo...   \n",
       "22   [( ( as ( part ( of ( my ( bergman marathon ) ...   \n",
       "23   [( i ( ( ( ( have ( nothing ( against ( sit-co...   \n",
       "24   [( ( ( ( ( yes ( , ( you ( may ( ( be ( scepti...   \n",
       "25   [( admittedly ( , ( ( ( ( i ( ( did not ) ( ( ...   \n",
       "26   [( ( ( james ( g. ballard ) ) ( ( -lrb- james ...   \n",
       "27   [( ( from ( shane meadows ) ) ( ( ( come ( thi...   \n",
       "28   [( ( ( ( ( i ( love musicals ) ) , ) and ) ( (...   \n",
       "29   [( i ( ( ( ( saw ( the bat ) ) mainly ) ( for ...   \n",
       "..                                                 ...   \n",
       "518  [( christian ( ( is ( ( a ( penniless writer )...   \n",
       "519  [( ( last winter ) ( ( ( ( i ( was ( walking (...   \n",
       "520  [( ( ( ( ( by ( ( some ( considerable margin )...   \n",
       "521  [( ( ( ( ( ( the reviews ) ( have ( ( said eve...   \n",
       "522  [( ( watched ( for ( ( first time ) ( in ( ove...   \n",
       "523  [( i ( ( 've ( ( absolutely ( no idea ) ) ( wh...   \n",
       "524  [( ( sums ( ( it up ) really ) ) . ), ( ( ( ( ...   \n",
       "525  [( ( a ( famous politician ) ) ( ( ( ( ( is mu...   \n",
       "526  [( ( spoilers ( throughout i ) ) ( ( ( was ( i...   \n",
       "527  [( i ( ( ( ca n't ) ( believe ( ( this film ) ...   \n",
       "528  [( this ( ( was great ) . ) ), ( people ( ( ex...   \n",
       "529  [( ( 7/10 ( for ( this one ) ) ) . ), ( stagge...   \n",
       "530  [( ( ( ( ( an ( ( slightly above ) ( average f...   \n",
       "531  [( ( ( ( lots ( of noise ) ) , ) ( lots ( of (...   \n",
       "532  [( ( ( ( ( i love ) ( hitchcock films ) ) ( , ...   \n",
       "533  [( ( on ( ( the ( plus side ) ) ( of ( this fi...   \n",
       "534  [( ted ( - ( ( ( ( 200 farts ) & ) ( a ( car c...   \n",
       "535  [( ( spoilers within ) ( ( ( am probably ) ( (...   \n",
       "536  [( ( james bond ) ( ( ( is ( back ( on top ) )...   \n",
       "537  [( ( most ( of ( ( the imdb ) ( ( top 30 ) i )...   \n",
       "538  [( great ( film . ) ), ( ( if ( we ( are ( to ...   \n",
       "539  [( ( ( could n't ) ( ( help ( feeling ( very (...   \n",
       "540  [( it ( ( 's ( an ( abysmal show ) ) ) . ) ), ...   \n",
       "541  [( this ( ( ( ( had ( ( the premise ) ( of ( a...   \n",
       "542  [( ( at least ) ( , ( ( given ( ( the ( impecc...   \n",
       "543  [( ( ridiculously ( over ( ( the ( top charact...   \n",
       "544  [( ( of ( ( all ( the hundreds ) ) ( of ( revi...   \n",
       "545  [( i ( ( ( 'm not ) ( ( going ( to ( ( ( spend...   \n",
       "546  [( ( miss ( potter ( is ( ( a film ) ( that ( ...   \n",
       "547  [( aliens ( ( is ( ( the sequel ) ( to alien )...   \n",
       "\n",
       "                                                  Sent rating  \n",
       "0    [i UNK a lot from this movie , and it did deli...     10  \n",
       "1    [this movie is not worth seeing ., has no meri...      1  \n",
       "2    [this is a great movie !, it is so funny ., th...     10  \n",
       "3    [there 's a kid in this film that UNK me ., he...      6  \n",
       "4    [john hall -lrb- david UNK -rrb- is a UNK look...      8  \n",
       "5    [the UNK UNK may n't be the best movie i have ...     10  \n",
       "6    [i do like a vast majority of steven spielberg...     10  \n",
       "7    [UNK of UNK is far from a masterpiece having a...      7  \n",
       "8    [it has been said that UNK tracy treated UNK h...      9  \n",
       "9    [to be honest , i was n't expecting much when ...      7  \n",
       "10   [my favourite director , alfred hitchcock has ...      9  \n",
       "11   [that is not to say this fright night is terri...      6  \n",
       "12   [license to UNK is no masterpiece in any UNK o...      6  \n",
       "13   [a truly excellent film in my opinion , UNK hi...      9  \n",
       "14   [i have to say i am not a fan generally of UNK...     10  \n",
       "15   [a young man by his late UNK -lrb- sam UNK -rr...      9  \n",
       "16   [okay , it was marginally better than i expect...      3  \n",
       "17   [this film is a little too long , and does n't...      8  \n",
       "18   [i love musicals , and little shop of horrors ...      9  \n",
       "19   [this sci-fi fantasy had a lot of UNK to be gr...      9  \n",
       "20   [no UNK that ., chinatown is actually my perso...     10  \n",
       "21   [i really liked the first movie , and i think ...      8  \n",
       "22   [as part of my bergman UNK , some for the firs...     10  \n",
       "23   [i have nothing against UNK in general , as lo...     10  \n",
       "24   [yes , you may be UNK of the casting if you sa...      9  \n",
       "25   [admittedly , i did not like this film at firs...      8  \n",
       "26   [james UNK. ballard -lrb- james UNK -rrb- is a...      8  \n",
       "27   [from shane UNK come this is england , a terri...      9  \n",
       "28   [i love musicals , and i heard a lot about sev...     10  \n",
       "29   [i saw the UNK mainly for one of my favourite ...      7  \n",
       "..                                                 ...    ...  \n",
       "518  [christian is a UNK writer who comes to paris ...      8  \n",
       "519  [last UNK i was UNK outside , but not very far...      1  \n",
       "520  [by some considerable UNK the worst film i hav...      1  \n",
       "521  [the reviews have said everything there is to ...      8  \n",
       "522  [watched for first time in over NUMTOKEN years...      6  \n",
       "523  [i 'UNK absolutely no idea what ` UNK ' is ., ...      3  \n",
       "524  [UNK it up really ., the first film was comple...      1  \n",
       "525  [a famous UNK is murdered and is by chance fil...      8  \n",
       "526  [UNK throughout i was in shock at the end of t...      2  \n",
       "527  [i ca n't believe this film is n't in the top ...      9  \n",
       "528  [this was great ., people UNK the amount of ro...      8  \n",
       "529  [NUMTOKEN/NUMTOKEN for this one ., UNK though ...      7  \n",
       "530  [an slightly above average film , never boring...      7  \n",
       "531  [lots of noise , lots of people UNK `` fire ''...      3  \n",
       "532  [i love hitchcock films , but to UNK this as t...      7  \n",
       "533  [on the plus side of this film , the NUMTOKEN ...      5  \n",
       "534  [ted - NUMTOKEN UNK & a car chase ., utterly U...      1  \n",
       "535  [UNK within am probably going out on a UNK her...      2  \n",
       "536  [james bond is back on top after the terrible ...      8  \n",
       "537  [most of the imdb top NUMTOKEN i disagree with...      9  \n",
       "538  [great film ., if we are to continue to get , ...      9  \n",
       "539  [could n't help feeling very let down & disapp...      3  \n",
       "540  [it 's an UNK show ., i 'UNK never ever got th...      1  \n",
       "541  [this had the premise of a good film , in fact...      3  \n",
       "542  [at least , given the impeccable standards UNK...      5  \n",
       "543  [ridiculously over the top characters UNK this...      3  \n",
       "544  [of all the UNK of reviews to this film on her...      3  \n",
       "545  [i 'UNK not going to spend much time on this a...      3  \n",
       "546  [miss potter is a film that is beautiful to wa...      8  \n",
       "547  [aliens is the sequel to alien ., the planet w...      9  \n",
       "\n",
       "[548 rows x 3 columns]"
      ]
     },
     "execution_count": 18,
     "metadata": {},
     "output_type": "execute_result"
    }
   ],
   "source": []
  },
  {
   "cell_type": "code",
   "execution_count": 5,
   "metadata": {
    "collapsed": true
   },
   "outputs": [],
   "source": [
    "import torch\n",
    "import numpy as np\n",
    "a = torch.tensor(np.array([[1, 2, 3], [4, 5, 6]]))"
   ]
  },
  {
   "cell_type": "code",
   "execution_count": 7,
   "metadata": {},
   "outputs": [
    {
     "data": {
      "text/plain": [
       "torch.Size([2, 3])"
      ]
     },
     "execution_count": 7,
     "metadata": {},
     "output_type": "execute_result"
    }
   ],
   "source": [
    "a.size()"
   ]
  },
  {
   "cell_type": "code",
   "execution_count": 10,
   "metadata": {
    "collapsed": true
   },
   "outputs": [],
   "source": [
    "b = a[:,:2]"
   ]
  },
  {
   "cell_type": "code",
   "execution_count": 13,
   "metadata": {
    "collapsed": true
   },
   "outputs": [],
   "source": [
    "b = torch.tensor(2)"
   ]
  },
  {
   "cell_type": "code",
   "execution_count": 15,
   "metadata": {
    "collapsed": true
   },
   "outputs": [],
   "source": [
    "c = a[:,:b]"
   ]
  },
  {
   "cell_type": "code",
   "execution_count": 16,
   "metadata": {},
   "outputs": [
    {
     "data": {
      "text/plain": [
       "tensor([[ 1,  2],\n",
       "        [ 4,  5]])"
      ]
     },
     "execution_count": 16,
     "metadata": {},
     "output_type": "execute_result"
    }
   ],
   "source": [
    "c"
   ]
  },
  {
   "cell_type": "code",
   "execution_count": null,
   "metadata": {
    "collapsed": true
   },
   "outputs": [],
   "source": []
  }
 ],
 "metadata": {
  "kernelspec": {
   "display_name": "Python 2",
   "language": "python",
   "name": "python2"
  },
  "language_info": {
   "codemirror_mode": {
    "name": "ipython",
    "version": 2
   },
   "file_extension": ".py",
   "mimetype": "text/x-python",
   "name": "python",
   "nbconvert_exporter": "python",
   "pygments_lexer": "ipython2",
   "version": "2.7.15"
  }
 },
 "nbformat": 4,
 "nbformat_minor": 2
}
