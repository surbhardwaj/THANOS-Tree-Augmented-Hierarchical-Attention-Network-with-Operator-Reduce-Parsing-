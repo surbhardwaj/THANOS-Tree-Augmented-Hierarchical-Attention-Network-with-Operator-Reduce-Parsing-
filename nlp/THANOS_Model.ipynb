{
 "cells": [
  {
   "cell_type": "markdown",
   "metadata": {},
   "source": [
    "### THANOS Model Code "
   ]
  },
  {
   "cell_type": "markdown",
   "metadata": {},
   "source": [
    "###### Creating the vocabs and storing them "
   ]
  },
  {
   "cell_type": "code",
   "execution_count": null,
   "metadata": {
    "collapsed": true
   },
   "outputs": [],
   "source": [
    "%run build_vocab.py --data_dir data"
   ]
  },
  {
   "cell_type": "markdown",
   "metadata": {},
   "source": [
    "##### Running the Training module"
   ]
  },
  {
   "cell_type": "code",
   "execution_count": null,
   "metadata": {
    "collapsed": true,
    "scrolled": true
   },
   "outputs": [],
   "source": [
    "%run train.py --data_dir data/small --model_dir experiments/base_model"
   ]
  },
  {
   "cell_type": "code",
   "execution_count": null,
   "metadata": {
    "collapsed": true
   },
   "outputs": [],
   "source": [
    "import torch\n",
    "torch.backends.cudnn.enabled=False"
   ]
  },
  {
   "cell_type": "markdown",
   "metadata": {},
   "source": [
    "##### Searching the hyperparameters"
   ]
  },
  {
   "cell_type": "code",
   "execution_count": null,
   "metadata": {
    "collapsed": true
   },
   "outputs": [],
   "source": [
    "%run search_hyperparams.py --data_dir data/kaggle --parent_dir experiments/learning_rate"
   ]
  },
  {
   "cell_type": "markdown",
   "metadata": {},
   "source": [
    "###### Synthesize the results from experiments"
   ]
  },
  {
   "cell_type": "code",
   "execution_count": null,
   "metadata": {
    "collapsed": true
   },
   "outputs": [],
   "source": [
    "%run synthesize_results.py --parent_dir experiments/learning_rate"
   ]
  },
  {
   "cell_type": "code",
   "execution_count": null,
   "metadata": {
    "collapsed": true
   },
   "outputs": [],
   "source": []
  },
  {
   "cell_type": "code",
   "execution_count": null,
   "metadata": {
    "collapsed": true
   },
   "outputs": [],
   "source": [
    "%run evaluate.py --data_dir data/small --model_dir experiments/base_model"
   ]
  },
  {
   "cell_type": "code",
   "execution_count": null,
   "metadata": {
    "collapsed": true
   },
   "outputs": [],
   "source": [
    "import torch\n",
    "torch.cuda.empty_cache()"
   ]
  },
  {
   "cell_type": "code",
   "execution_count": null,
   "metadata": {
    "collapsed": true
   },
   "outputs": [],
   "source": [
    "import pandas as pd\n",
    "data = pd.read_pickle(\"data/kaggle/train.pkl\")"
   ]
  },
  {
   "cell_type": "code",
   "execution_count": null,
   "metadata": {
    "collapsed": true
   },
   "outputs": [],
   "source": []
  },
  {
   "cell_type": "code",
   "execution_count": null,
   "metadata": {
    "collapsed": true
   },
   "outputs": [],
   "source": []
  },
  {
   "cell_type": "code",
   "execution_count": null,
   "metadata": {
    "collapsed": true
   },
   "outputs": [],
   "source": [
    "train = data.sort_values(['length'], ascending=True)"
   ]
  },
  {
   "cell_type": "code",
   "execution_count": null,
   "metadata": {
    "collapsed": true
   },
   "outputs": [],
   "source": [
    "train.to_pickle(\"data/kaggle/dev_1.pkl\")"
   ]
  },
  {
   "cell_type": "code",
   "execution_count": null,
   "metadata": {
    "collapsed": true
   },
   "outputs": [],
   "source": [
    "len(data)"
   ]
  },
  {
   "cell_type": "code",
   "execution_count": 13,
   "metadata": {
    "collapsed": true
   },
   "outputs": [],
   "source": [
    "import pickle\n",
    "################Preprocessing the data ###################\n",
    "location = '/home/user1/Surbhi/cs230-code-examples-master/pytorch/nlp/data/kaggle/'"
   ]
  },
  {
   "cell_type": "code",
   "execution_count": 14,
   "metadata": {
    "collapsed": true
   },
   "outputs": [],
   "source": [
    "with open(location+\"IMDB_complete.pkl\", 'rb') as f:\n",
    "     sent = pickle.load(f)"
   ]
  },
  {
   "cell_type": "code",
   "execution_count": 15,
   "metadata": {
    "collapsed": true
   },
   "outputs": [],
   "source": [
    "with open(location+\"Parsedtree.pkl\", 'rb') as f:\n",
    "     Tree = pickle.load(f)"
   ]
  },
  {
   "cell_type": "code",
   "execution_count": 16,
   "metadata": {},
   "outputs": [
    {
     "data": {
      "text/plain": [
       "['']"
      ]
     },
     "execution_count": 16,
     "metadata": {},
     "output_type": "execute_result"
    }
   ],
   "source": [
    "sent.pop(0)\n",
    "Tree.pop(0)"
   ]
  },
  {
   "cell_type": "code",
   "execution_count": 17,
   "metadata": {
    "collapsed": true
   },
   "outputs": [],
   "source": [
    "data = zip(Tree, sent)"
   ]
  },
  {
   "cell_type": "code",
   "execution_count": 18,
   "metadata": {
    "collapsed": true
   },
   "outputs": [],
   "source": [
    "data = list(data)"
   ]
  },
  {
   "cell_type": "code",
   "execution_count": 19,
   "metadata": {
    "collapsed": true
   },
   "outputs": [],
   "source": [
    "import pandas as pd\n",
    "tree_dat = pd.DataFrame(data, columns=['Tree', 'Sent'])"
   ]
  },
  {
   "cell_type": "code",
   "execution_count": 20,
   "metadata": {},
   "outputs": [
    {
     "data": {
      "text/html": [
       "<div>\n",
       "<style scoped>\n",
       "    .dataframe tbody tr th:only-of-type {\n",
       "        vertical-align: middle;\n",
       "    }\n",
       "\n",
       "    .dataframe tbody tr th {\n",
       "        vertical-align: top;\n",
       "    }\n",
       "\n",
       "    .dataframe thead th {\n",
       "        text-align: right;\n",
       "    }\n",
       "</style>\n",
       "<table border=\"1\" class=\"dataframe\">\n",
       "  <thead>\n",
       "    <tr style=\"text-align: right;\">\n",
       "      <th></th>\n",
       "      <th>Tree</th>\n",
       "      <th>Sent</th>\n",
       "    </tr>\n",
       "  </thead>\n",
       "  <tbody>\n",
       "    <tr>\n",
       "      <th>0</th>\n",
       "      <td>[( ( ( ( ( i ( ( excepted ( a lot ) ) ( from (...</td>\n",
       "      <td>[i excepted a lot from this movie , and it did...</td>\n",
       "    </tr>\n",
       "    <tr>\n",
       "      <th>1</th>\n",
       "      <td>[( ( this movie ) ( ( ( is not ) ( worth seein...</td>\n",
       "      <td>[this movie is not worth seeing ., has no meri...</td>\n",
       "    </tr>\n",
       "    <tr>\n",
       "      <th>2</th>\n",
       "      <td>[( this ( ( is ( a ( great movie ) ) ) ! ) ), ...</td>\n",
       "      <td>[this is a great movie !, it is so funny ., th...</td>\n",
       "    </tr>\n",
       "    <tr>\n",
       "      <th>3</th>\n",
       "      <td>[( there ( ( 's ( ( a kid ) ( in ( ( this film...</td>\n",
       "      <td>[there 's a kid in this film that concerns me ...</td>\n",
       "    </tr>\n",
       "    <tr>\n",
       "      <th>4</th>\n",
       "      <td>[( ( ( ( john hall ) ( -lrb- ( david andrews )...</td>\n",
       "      <td>[john hall -UNK- david andrews -rrb- is a drif...</td>\n",
       "    </tr>\n",
       "    <tr>\n",
       "      <th>5</th>\n",
       "      <td>[( ( ( ( ( ( the ( maltese falcon ) ) ( ( may ...</td>\n",
       "      <td>[the maltese falcon may n't be the best movie ...</td>\n",
       "    </tr>\n",
       "    <tr>\n",
       "      <th>6</th>\n",
       "      <td>[( ( ( ( ( i ( do ( like ( ( a ( vast majority...</td>\n",
       "      <td>[i do like a vast majority of steven spielberg...</td>\n",
       "    </tr>\n",
       "    <tr>\n",
       "      <th>7</th>\n",
       "      <td>[( ( blades ( of glory ) ) ( ( ( is ( far ( fr...</td>\n",
       "      <td>[blades of glory is far from a masterpiece hav...</td>\n",
       "    </tr>\n",
       "    <tr>\n",
       "      <th>8</th>\n",
       "      <td>[( it ( ( has ( been ( said ( that ( ( spencer...</td>\n",
       "      <td>[it has been said that spencer tracy treated k...</td>\n",
       "    </tr>\n",
       "    <tr>\n",
       "      <th>9</th>\n",
       "      <td>[( ( ( ( ( ( to ( be honest ) ) ( , ( i ( ( wa...</td>\n",
       "      <td>[to be honest , i was n't expecting much when ...</td>\n",
       "    </tr>\n",
       "    <tr>\n",
       "      <th>10</th>\n",
       "      <td>[( ( ( ( ( ( ( ( my ( favourite director ) ) ,...</td>\n",
       "      <td>[my favourite director , alfred hitchcock has ...</td>\n",
       "    </tr>\n",
       "    <tr>\n",
       "      <th>11</th>\n",
       "      <td>[( that ( ( ( is not ) ( to ( say ( ( this ( f...</td>\n",
       "      <td>[that is not to say this fright night is terri...</td>\n",
       "    </tr>\n",
       "    <tr>\n",
       "      <th>12</th>\n",
       "      <td>[( ( ( ( ( ( license ( to wed ) ) ( is ( ( no ...</td>\n",
       "      <td>[license to wed is no masterpiece in any shape...</td>\n",
       "    </tr>\n",
       "    <tr>\n",
       "      <th>13</th>\n",
       "      <td>[( ( ( a ( ( truly excellent ) film ) ) ( in (...</td>\n",
       "      <td>[a truly excellent film in my opinion , riddle...</td>\n",
       "    </tr>\n",
       "    <tr>\n",
       "      <th>14</th>\n",
       "      <td>[( ( ( ( ( i ( have ( to ( say ( i ( ( am not ...</td>\n",
       "      <td>[i have to say i am not a fan generally of m n...</td>\n",
       "    </tr>\n",
       "    <tr>\n",
       "      <th>15</th>\n",
       "      <td>[( ( ( a ( young man ) ) ( by ( ( his ( late t...</td>\n",
       "      <td>[a young man by his late twenties -UNK- sam ro...</td>\n",
       "    </tr>\n",
       "    <tr>\n",
       "      <th>16</th>\n",
       "      <td>[( ( ( ( ( okay ( , ( it ( ( was ( marginally ...</td>\n",
       "      <td>[okay , it was marginally better than i expect...</td>\n",
       "    </tr>\n",
       "    <tr>\n",
       "      <th>17</th>\n",
       "      <td>[( ( this film ) ( ( ( ( ( ( is ( a little ) )...</td>\n",
       "      <td>[this film is a little too long , and does n't...</td>\n",
       "    </tr>\n",
       "    <tr>\n",
       "      <th>18</th>\n",
       "      <td>[( ( ( ( ( i ( love musicals ) ) , ) and ) ( (...</td>\n",
       "      <td>[i love musicals , and little shop of horrors ...</td>\n",
       "    </tr>\n",
       "    <tr>\n",
       "      <th>19</th>\n",
       "      <td>[( ( this ( sci-fi fantasy ) ) ( ( had ( ( a l...</td>\n",
       "      <td>[this sci-fi fantasy had a lot of ingredients ...</td>\n",
       "    </tr>\n",
       "    <tr>\n",
       "      <th>20</th>\n",
       "      <td>[( ( ( no scratch ) that ) . ), ( chinatown ( ...</td>\n",
       "      <td>[no scratch that ., chinatown is actually my p...</td>\n",
       "    </tr>\n",
       "    <tr>\n",
       "      <th>21</th>\n",
       "      <td>[( ( ( ( ( i ( really ( liked ( the ( first mo...</td>\n",
       "      <td>[i really liked the first movie , and i think ...</td>\n",
       "    </tr>\n",
       "    <tr>\n",
       "      <th>22</th>\n",
       "      <td>[( ( as ( part ( of ( my ( bergman marathon ) ...</td>\n",
       "      <td>[as part of my bergman marathon , some for the...</td>\n",
       "    </tr>\n",
       "    <tr>\n",
       "      <th>23</th>\n",
       "      <td>[( i ( ( ( ( have ( nothing ( against ( sit-co...</td>\n",
       "      <td>[i have nothing against sit-coms in general , ...</td>\n",
       "    </tr>\n",
       "    <tr>\n",
       "      <th>24</th>\n",
       "      <td>[( ( ( ( ( yes ( , ( you ( may ( ( be ( scepti...</td>\n",
       "      <td>[yes , you may be sceptical of the casting if ...</td>\n",
       "    </tr>\n",
       "    <tr>\n",
       "      <th>25</th>\n",
       "      <td>[( admittedly ( , ( ( ( ( i ( ( did not ) ( ( ...</td>\n",
       "      <td>[admittedly , i did not like this film at firs...</td>\n",
       "    </tr>\n",
       "    <tr>\n",
       "      <th>26</th>\n",
       "      <td>[( ( ( james ( g. ballard ) ) ( ( -lrb- james ...</td>\n",
       "      <td>[james g. ballard -UNK- james spader -rrb- is ...</td>\n",
       "    </tr>\n",
       "    <tr>\n",
       "      <th>27</th>\n",
       "      <td>[( ( from ( shane meadows ) ) ( ( ( come ( thi...</td>\n",
       "      <td>[from shane meadows come this is england , a t...</td>\n",
       "    </tr>\n",
       "    <tr>\n",
       "      <th>28</th>\n",
       "      <td>[( ( ( ( ( i ( love musicals ) ) , ) and ) ( (...</td>\n",
       "      <td>[i love musicals , and i heard a lot about sev...</td>\n",
       "    </tr>\n",
       "    <tr>\n",
       "      <th>29</th>\n",
       "      <td>[( i ( ( ( ( saw ( the bat ) ) mainly ) ( for ...</td>\n",
       "      <td>[i saw the bat mainly for one of my favourite ...</td>\n",
       "    </tr>\n",
       "    <tr>\n",
       "      <th>...</th>\n",
       "      <td>...</td>\n",
       "      <td>...</td>\n",
       "    </tr>\n",
       "    <tr>\n",
       "      <th>71771</th>\n",
       "      <td>[( ( some reviewers ) ( ( have ( called ( ( th...</td>\n",
       "      <td>[some reviewers have called this movie pretent...</td>\n",
       "    </tr>\n",
       "    <tr>\n",
       "      <th>71772</th>\n",
       "      <td>[( i ( ( ( ( liked ( the ( fifth element ) ) )...</td>\n",
       "      <td>[i liked the fifth element , because it is a g...</td>\n",
       "    </tr>\n",
       "    <tr>\n",
       "      <th>71773</th>\n",
       "      <td>[( yes ( , ( you ( ( have ( read correctly ) )...</td>\n",
       "      <td>[yes , you have read correctly ., the lion kin...</td>\n",
       "    </tr>\n",
       "    <tr>\n",
       "      <th>71774</th>\n",
       "      <td>[( ( ( ( i ( have ( seen ( while ( maybe ( ( t...</td>\n",
       "      <td>[i have seen while maybe three or four times d...</td>\n",
       "    </tr>\n",
       "    <tr>\n",
       "      <th>71775</th>\n",
       "      <td>[( ( ( ( ( i ( finally ( got ( around ( to ( (...</td>\n",
       "      <td>[i finally got around to watching this film a ...</td>\n",
       "    </tr>\n",
       "    <tr>\n",
       "      <th>71776</th>\n",
       "      <td>[( ( ( ( ( ( this ( predictable movie ) ) ( re...</td>\n",
       "      <td>[this predictable movie really is n't all that...</td>\n",
       "    </tr>\n",
       "    <tr>\n",
       "      <th>71777</th>\n",
       "      <td>[( ( ( ( ( this ( was ( a ( ( surprisingly sol...</td>\n",
       "      <td>[this was a surprisingly solid horror flick , ...</td>\n",
       "    </tr>\n",
       "    <tr>\n",
       "      <th>71778</th>\n",
       "      <td>[( ( ( ( ( i ( ( only recently ) ( got ( aroun...</td>\n",
       "      <td>[i only recently got around to seeing this fil...</td>\n",
       "    </tr>\n",
       "    <tr>\n",
       "      <th>71779</th>\n",
       "      <td>[( ( ( this film ) ( examines ( the ( quadrupl...</td>\n",
       "      <td>[this film examines the quadruple murder deeme...</td>\n",
       "    </tr>\n",
       "    <tr>\n",
       "      <th>71780</th>\n",
       "      <td>[( ( ( a ( slick ( norwegian thriller ) ) ) ( ...</td>\n",
       "      <td>[a slick norwegian thriller from director mort...</td>\n",
       "    </tr>\n",
       "    <tr>\n",
       "      <th>71781</th>\n",
       "      <td>[( ( when ( i ( heard ( ( a sequel ) ( was ( b...</td>\n",
       "      <td>[when i heard a sequel was being made to the o...</td>\n",
       "    </tr>\n",
       "    <tr>\n",
       "      <th>71782</th>\n",
       "      <td>[( ( picture ( the ( classic ( noir ( story li...</td>\n",
       "      <td>[picture the classic noir story lines infused ...</td>\n",
       "    </tr>\n",
       "    <tr>\n",
       "      <th>71783</th>\n",
       "      <td>[( ( spoilers ( herein ( it ( ( 's ( almost ha...</td>\n",
       "      <td>[spoilers herein it 's almost hard to believe ...</td>\n",
       "    </tr>\n",
       "    <tr>\n",
       "      <th>71784</th>\n",
       "      <td>[( ( when ( ( ( a ( ( previously unknown ) ( y...</td>\n",
       "      <td>[when a previously unknown young filmmaker nam...</td>\n",
       "    </tr>\n",
       "    <tr>\n",
       "      <th>71785</th>\n",
       "      <td>[( ( in 2000 ) ( , ( ( ( writer director ) ( c...</td>\n",
       "      <td>[in NUMTOKEN , writer director cameron crowe r...</td>\n",
       "    </tr>\n",
       "    <tr>\n",
       "      <th>71786</th>\n",
       "      <td>[( ( whenever ( ( ( a ( renowned ( director ex...</td>\n",
       "      <td>[whenever a renowned director experiments with...</td>\n",
       "    </tr>\n",
       "    <tr>\n",
       "      <th>71787</th>\n",
       "      <td>[( ( ( knight and ) day ) ( ( is ( ( a film ) ...</td>\n",
       "      <td>[knight and day is a film rife with paradoxes ...</td>\n",
       "    </tr>\n",
       "    <tr>\n",
       "      <th>71788</th>\n",
       "      <td>[( spoilers ( herein ( ( when ( ( steven ( ( (...</td>\n",
       "      <td>[spoilers herein when steven spielberg , argua...</td>\n",
       "    </tr>\n",
       "    <tr>\n",
       "      <th>71789</th>\n",
       "      <td>[( ( with ( ( a title ) ( such ( as that ) ) )...</td>\n",
       "      <td>[with a title such as that , an audience is im...</td>\n",
       "    </tr>\n",
       "    <tr>\n",
       "      <th>71790</th>\n",
       "      <td>[( this ( ( ( ( is ( ( a ( great ( fun ( summe...</td>\n",
       "      <td>[this is a great fun summer blockbuster of a m...</td>\n",
       "    </tr>\n",
       "    <tr>\n",
       "      <th>71791</th>\n",
       "      <td>[( ( ( ( ( ( ( ( having ( ( watched ( ( this (...</td>\n",
       "      <td>[having watched this UNK-be oscar winner in th...</td>\n",
       "    </tr>\n",
       "    <tr>\n",
       "      <th>71792</th>\n",
       "      <td>[( this ( ( is ( ( ( ( ( a ( ( very funny ) mo...</td>\n",
       "      <td>[this is a very funny movie with absolutely UN...</td>\n",
       "    </tr>\n",
       "    <tr>\n",
       "      <th>71793</th>\n",
       "      <td>[( this ( ( is ( ( a ( ( very fast-pace ) ( , ...</td>\n",
       "      <td>[this is a very fast-pace , visually stunning ...</td>\n",
       "    </tr>\n",
       "    <tr>\n",
       "      <th>71794</th>\n",
       "      <td>[( ( ( ( killer effects ) , ) ( but i ) ) ( ( ...</td>\n",
       "      <td>[killer effects , but i wish we saw more style...</td>\n",
       "    </tr>\n",
       "    <tr>\n",
       "      <th>71795</th>\n",
       "      <td>[( ( ( ( ( ( i ( ( ( got ( to admit ) ) , ) ( ...</td>\n",
       "      <td>[i got to admit , that this was as good as the...</td>\n",
       "    </tr>\n",
       "    <tr>\n",
       "      <th>71796</th>\n",
       "      <td>[( ( ( ( the ( best ( damn movie ) ) ) ( about...</td>\n",
       "      <td>[the best damn movie about aliens attack durin...</td>\n",
       "    </tr>\n",
       "    <tr>\n",
       "      <th>71797</th>\n",
       "      <td>[( ( chucky ( ( has always ) ( ( ( been ( a ( ...</td>\n",
       "      <td>[chucky has always been a cool villain , one o...</td>\n",
       "    </tr>\n",
       "    <tr>\n",
       "      <th>71798</th>\n",
       "      <td>[( i ( ( got ( to ( admit ( i ( was ( ( a litt...</td>\n",
       "      <td>[i got to admit i was a little grossed out whe...</td>\n",
       "    </tr>\n",
       "    <tr>\n",
       "      <th>71799</th>\n",
       "      <td>[( ok ( , ( ( let ( 's ( ( get this ) ( over w...</td>\n",
       "      <td>[ok , let 's get this over with ., i did n't l...</td>\n",
       "    </tr>\n",
       "    <tr>\n",
       "      <th>71800</th>\n",
       "      <td>[( ( unless ( someone ( ( tells me ) otherwise...</td>\n",
       "      <td>[unless someone tells me otherwise , capturing...</td>\n",
       "    </tr>\n",
       "  </tbody>\n",
       "</table>\n",
       "<p>71801 rows × 2 columns</p>\n",
       "</div>"
      ],
      "text/plain": [
       "                                                    Tree  \\\n",
       "0      [( ( ( ( ( i ( ( excepted ( a lot ) ) ( from (...   \n",
       "1      [( ( this movie ) ( ( ( is not ) ( worth seein...   \n",
       "2      [( this ( ( is ( a ( great movie ) ) ) ! ) ), ...   \n",
       "3      [( there ( ( 's ( ( a kid ) ( in ( ( this film...   \n",
       "4      [( ( ( ( john hall ) ( -lrb- ( david andrews )...   \n",
       "5      [( ( ( ( ( ( the ( maltese falcon ) ) ( ( may ...   \n",
       "6      [( ( ( ( ( i ( do ( like ( ( a ( vast majority...   \n",
       "7      [( ( blades ( of glory ) ) ( ( ( is ( far ( fr...   \n",
       "8      [( it ( ( has ( been ( said ( that ( ( spencer...   \n",
       "9      [( ( ( ( ( ( to ( be honest ) ) ( , ( i ( ( wa...   \n",
       "10     [( ( ( ( ( ( ( ( my ( favourite director ) ) ,...   \n",
       "11     [( that ( ( ( is not ) ( to ( say ( ( this ( f...   \n",
       "12     [( ( ( ( ( ( license ( to wed ) ) ( is ( ( no ...   \n",
       "13     [( ( ( a ( ( truly excellent ) film ) ) ( in (...   \n",
       "14     [( ( ( ( ( i ( have ( to ( say ( i ( ( am not ...   \n",
       "15     [( ( ( a ( young man ) ) ( by ( ( his ( late t...   \n",
       "16     [( ( ( ( ( okay ( , ( it ( ( was ( marginally ...   \n",
       "17     [( ( this film ) ( ( ( ( ( ( is ( a little ) )...   \n",
       "18     [( ( ( ( ( i ( love musicals ) ) , ) and ) ( (...   \n",
       "19     [( ( this ( sci-fi fantasy ) ) ( ( had ( ( a l...   \n",
       "20     [( ( ( no scratch ) that ) . ), ( chinatown ( ...   \n",
       "21     [( ( ( ( ( i ( really ( liked ( the ( first mo...   \n",
       "22     [( ( as ( part ( of ( my ( bergman marathon ) ...   \n",
       "23     [( i ( ( ( ( have ( nothing ( against ( sit-co...   \n",
       "24     [( ( ( ( ( yes ( , ( you ( may ( ( be ( scepti...   \n",
       "25     [( admittedly ( , ( ( ( ( i ( ( did not ) ( ( ...   \n",
       "26     [( ( ( james ( g. ballard ) ) ( ( -lrb- james ...   \n",
       "27     [( ( from ( shane meadows ) ) ( ( ( come ( thi...   \n",
       "28     [( ( ( ( ( i ( love musicals ) ) , ) and ) ( (...   \n",
       "29     [( i ( ( ( ( saw ( the bat ) ) mainly ) ( for ...   \n",
       "...                                                  ...   \n",
       "71771  [( ( some reviewers ) ( ( have ( called ( ( th...   \n",
       "71772  [( i ( ( ( ( liked ( the ( fifth element ) ) )...   \n",
       "71773  [( yes ( , ( you ( ( have ( read correctly ) )...   \n",
       "71774  [( ( ( ( i ( have ( seen ( while ( maybe ( ( t...   \n",
       "71775  [( ( ( ( ( i ( finally ( got ( around ( to ( (...   \n",
       "71776  [( ( ( ( ( ( this ( predictable movie ) ) ( re...   \n",
       "71777  [( ( ( ( ( this ( was ( a ( ( surprisingly sol...   \n",
       "71778  [( ( ( ( ( i ( ( only recently ) ( got ( aroun...   \n",
       "71779  [( ( ( this film ) ( examines ( the ( quadrupl...   \n",
       "71780  [( ( ( a ( slick ( norwegian thriller ) ) ) ( ...   \n",
       "71781  [( ( when ( i ( heard ( ( a sequel ) ( was ( b...   \n",
       "71782  [( ( picture ( the ( classic ( noir ( story li...   \n",
       "71783  [( ( spoilers ( herein ( it ( ( 's ( almost ha...   \n",
       "71784  [( ( when ( ( ( a ( ( previously unknown ) ( y...   \n",
       "71785  [( ( in 2000 ) ( , ( ( ( writer director ) ( c...   \n",
       "71786  [( ( whenever ( ( ( a ( renowned ( director ex...   \n",
       "71787  [( ( ( knight and ) day ) ( ( is ( ( a film ) ...   \n",
       "71788  [( spoilers ( herein ( ( when ( ( steven ( ( (...   \n",
       "71789  [( ( with ( ( a title ) ( such ( as that ) ) )...   \n",
       "71790  [( this ( ( ( ( is ( ( a ( great ( fun ( summe...   \n",
       "71791  [( ( ( ( ( ( ( ( having ( ( watched ( ( this (...   \n",
       "71792  [( this ( ( is ( ( ( ( ( a ( ( very funny ) mo...   \n",
       "71793  [( this ( ( is ( ( a ( ( very fast-pace ) ( , ...   \n",
       "71794  [( ( ( ( killer effects ) , ) ( but i ) ) ( ( ...   \n",
       "71795  [( ( ( ( ( ( i ( ( ( got ( to admit ) ) , ) ( ...   \n",
       "71796  [( ( ( ( the ( best ( damn movie ) ) ) ( about...   \n",
       "71797  [( ( chucky ( ( has always ) ( ( ( been ( a ( ...   \n",
       "71798  [( i ( ( got ( to ( admit ( i ( was ( ( a litt...   \n",
       "71799  [( ok ( , ( ( let ( 's ( ( get this ) ( over w...   \n",
       "71800  [( ( unless ( someone ( ( tells me ) otherwise...   \n",
       "\n",
       "                                                    Sent  \n",
       "0      [i excepted a lot from this movie , and it did...  \n",
       "1      [this movie is not worth seeing ., has no meri...  \n",
       "2      [this is a great movie !, it is so funny ., th...  \n",
       "3      [there 's a kid in this film that concerns me ...  \n",
       "4      [john hall -UNK- david andrews -rrb- is a drif...  \n",
       "5      [the maltese falcon may n't be the best movie ...  \n",
       "6      [i do like a vast majority of steven spielberg...  \n",
       "7      [blades of glory is far from a masterpiece hav...  \n",
       "8      [it has been said that spencer tracy treated k...  \n",
       "9      [to be honest , i was n't expecting much when ...  \n",
       "10     [my favourite director , alfred hitchcock has ...  \n",
       "11     [that is not to say this fright night is terri...  \n",
       "12     [license to wed is no masterpiece in any shape...  \n",
       "13     [a truly excellent film in my opinion , riddle...  \n",
       "14     [i have to say i am not a fan generally of m n...  \n",
       "15     [a young man by his late twenties -UNK- sam ro...  \n",
       "16     [okay , it was marginally better than i expect...  \n",
       "17     [this film is a little too long , and does n't...  \n",
       "18     [i love musicals , and little shop of horrors ...  \n",
       "19     [this sci-fi fantasy had a lot of ingredients ...  \n",
       "20     [no scratch that ., chinatown is actually my p...  \n",
       "21     [i really liked the first movie , and i think ...  \n",
       "22     [as part of my bergman marathon , some for the...  \n",
       "23     [i have nothing against sit-coms in general , ...  \n",
       "24     [yes , you may be sceptical of the casting if ...  \n",
       "25     [admittedly , i did not like this film at firs...  \n",
       "26     [james g. ballard -UNK- james spader -rrb- is ...  \n",
       "27     [from shane meadows come this is england , a t...  \n",
       "28     [i love musicals , and i heard a lot about sev...  \n",
       "29     [i saw the bat mainly for one of my favourite ...  \n",
       "...                                                  ...  \n",
       "71771  [some reviewers have called this movie pretent...  \n",
       "71772  [i liked the fifth element , because it is a g...  \n",
       "71773  [yes , you have read correctly ., the lion kin...  \n",
       "71774  [i have seen while maybe three or four times d...  \n",
       "71775  [i finally got around to watching this film a ...  \n",
       "71776  [this predictable movie really is n't all that...  \n",
       "71777  [this was a surprisingly solid horror flick , ...  \n",
       "71778  [i only recently got around to seeing this fil...  \n",
       "71779  [this film examines the quadruple murder deeme...  \n",
       "71780  [a slick norwegian thriller from director mort...  \n",
       "71781  [when i heard a sequel was being made to the o...  \n",
       "71782  [picture the classic noir story lines infused ...  \n",
       "71783  [spoilers herein it 's almost hard to believe ...  \n",
       "71784  [when a previously unknown young filmmaker nam...  \n",
       "71785  [in NUMTOKEN , writer director cameron crowe r...  \n",
       "71786  [whenever a renowned director experiments with...  \n",
       "71787  [knight and day is a film rife with paradoxes ...  \n",
       "71788  [spoilers herein when steven spielberg , argua...  \n",
       "71789  [with a title such as that , an audience is im...  \n",
       "71790  [this is a great fun summer blockbuster of a m...  \n",
       "71791  [having watched this UNK-be oscar winner in th...  \n",
       "71792  [this is a very funny movie with absolutely UN...  \n",
       "71793  [this is a very fast-pace , visually stunning ...  \n",
       "71794  [killer effects , but i wish we saw more style...  \n",
       "71795  [i got to admit , that this was as good as the...  \n",
       "71796  [the best damn movie about aliens attack durin...  \n",
       "71797  [chucky has always been a cool villain , one o...  \n",
       "71798  [i got to admit i was a little grossed out whe...  \n",
       "71799  [ok , let 's get this over with ., i did n't l...  \n",
       "71800  [unless someone tells me otherwise , capturing...  \n",
       "\n",
       "[71801 rows x 2 columns]"
      ]
     },
     "execution_count": 20,
     "metadata": {},
     "output_type": "execute_result"
    }
   ],
   "source": [
    "tree_dat"
   ]
  },
  {
   "cell_type": "code",
   "execution_count": 21,
   "metadata": {
    "collapsed": true
   },
   "outputs": [],
   "source": [
    "dat = pd.read_csv(location+'IMDB.csv')"
   ]
  },
  {
   "cell_type": "code",
   "execution_count": null,
   "metadata": {
    "collapsed": true
   },
   "outputs": [],
   "source": []
  },
  {
   "cell_type": "code",
   "execution_count": 22,
   "metadata": {
    "collapsed": true
   },
   "outputs": [],
   "source": [
    "dat = dat.head(71801)"
   ]
  },
  {
   "cell_type": "code",
   "execution_count": 23,
   "metadata": {
    "collapsed": true
   },
   "outputs": [],
   "source": [
    "dat = dat[['review','rating']]"
   ]
  },
  {
   "cell_type": "code",
   "execution_count": 24,
   "metadata": {
    "collapsed": true
   },
   "outputs": [],
   "source": [
    "tree_dat['rating'] = dat['rating']\n",
    "tree_dat['review'] = dat['review']"
   ]
  },
  {
   "cell_type": "code",
   "execution_count": 25,
   "metadata": {
    "collapsed": true
   },
   "outputs": [],
   "source": [
    "import math"
   ]
  },
  {
   "cell_type": "code",
   "execution_count": null,
   "metadata": {
    "collapsed": true
   },
   "outputs": [],
   "source": [
    "class_1 = tree_dat[tree_dat.rating==10]"
   ]
  },
  {
   "cell_type": "code",
   "execution_count": null,
   "metadata": {
    "collapsed": true
   },
   "outputs": [],
   "source": [
    "len(class_1)"
   ]
  },
  {
   "cell_type": "code",
   "execution_count": null,
   "metadata": {
    "collapsed": true
   },
   "outputs": [],
   "source": [
    "len(train)"
   ]
  },
  {
   "cell_type": "code",
   "execution_count": null,
   "metadata": {
    "collapsed": true
   },
   "outputs": [],
   "source": [
    "train_1 = class_1.sample(7592)\n",
    "train = train.append(train_1)\n",
    "class_1 = class_1.drop(train_1.index)\n",
    "\n",
    "test_1 = class_1.sample(948)\n",
    "test = test.append(test_1)\n",
    "class_1 = class_1.drop(test_1.index)\n",
    "\n",
    "dev_1 = class_1.sample(949)\n",
    "dev = dev.append(dev_1)\n",
    "class_1 = class_1.drop(dev_1.index)"
   ]
  },
  {
   "cell_type": "code",
   "execution_count": null,
   "metadata": {
    "collapsed": true
   },
   "outputs": [],
   "source": [
    "train = train.sort_values(['length'], ascending=True)\n",
    "test = test.sort_values(['length'], ascending=True)\n",
    "dev = dev.sort_values(['length'], ascending=True)"
   ]
  },
  {
   "cell_type": "code",
   "execution_count": null,
   "metadata": {
    "collapsed": true
   },
   "outputs": [],
   "source": [
    "train = tree_dat.sample(50261)"
   ]
  },
  {
   "cell_type": "code",
   "execution_count": null,
   "metadata": {
    "collapsed": true
   },
   "outputs": [],
   "source": [
    "tree_dat = tree_dat.drop(train.index)"
   ]
  },
  {
   "cell_type": "code",
   "execution_count": null,
   "metadata": {
    "collapsed": true
   },
   "outputs": [],
   "source": [
    "dev = tree_dat.sample(14360)\n",
    "tree_dat = tree_dat.drop(dev.index)"
   ]
  },
  {
   "cell_type": "code",
   "execution_count": null,
   "metadata": {
    "collapsed": true
   },
   "outputs": [],
   "source": [
    "test = tree_dat"
   ]
  },
  {
   "cell_type": "code",
   "execution_count": null,
   "metadata": {
    "collapsed": true
   },
   "outputs": [],
   "source": [
    "train.to_pickle(location+\"train.pkl\")\n",
    "test.to_pickle(location+\"test.pkl\")\n",
    "dev.to_pickle(location+\"dev.pkl\")"
   ]
  },
  {
   "cell_type": "code",
   "execution_count": null,
   "metadata": {
    "collapsed": true
   },
   "outputs": [],
   "source": [
    "data = pd.read_pickle(\"data/kaggle/dev.pkl\")"
   ]
  },
  {
   "cell_type": "code",
   "execution_count": null,
   "metadata": {
    "collapsed": true
   },
   "outputs": [],
   "source": [
    "dev"
   ]
  },
  {
   "cell_type": "code",
   "execution_count": null,
   "metadata": {
    "collapsed": true
   },
   "outputs": [],
   "source": [
    "data = data[data.length!=1]"
   ]
  },
  {
   "cell_type": "code",
   "execution_count": null,
   "metadata": {
    "collapsed": true
   },
   "outputs": [],
   "source": [
    "len(data)"
   ]
  },
  {
   "cell_type": "code",
   "execution_count": null,
   "metadata": {
    "collapsed": true
   },
   "outputs": [],
   "source": [
    "data.to_pickle(location+\"dev_1.pkl\")"
   ]
  },
  {
   "cell_type": "code",
   "execution_count": null,
   "metadata": {
    "collapsed": true
   },
   "outputs": [],
   "source": [
    "a = 100\n",
    "b = 109\n",
    "print('Batch size is ', a, b)"
   ]
  },
  {
   "cell_type": "code",
   "execution_count": 26,
   "metadata": {
    "collapsed": true
   },
   "outputs": [],
   "source": [
    "def get_docs(doc):\n",
    "    return len(doc)"
   ]
  },
  {
   "cell_type": "code",
   "execution_count": 27,
   "metadata": {
    "collapsed": true
   },
   "outputs": [],
   "source": [
    "tree_dat['length'] = tree_dat['Sent'].apply(get_docs)"
   ]
  },
  {
   "cell_type": "code",
   "execution_count": 28,
   "metadata": {
    "collapsed": true
   },
   "outputs": [],
   "source": [
    "tree_dat = tree_dat[tree_dat.length > 1]"
   ]
  },
  {
   "cell_type": "code",
   "execution_count": 24,
   "metadata": {
    "collapsed": true
   },
   "outputs": [],
   "source": [
    "#train = tree_dat.head(56944)\n",
    "test = tree_dat.tail(14236)\n",
    "dev = test.head(7118)\n",
    "test = test.tail(7118)"
   ]
  },
  {
   "cell_type": "code",
   "execution_count": 28,
   "metadata": {
    "collapsed": true
   },
   "outputs": [],
   "source": [
    "train = train.sort_values(['length'], ascending=True)\n",
    "test = test.sort_values(['length'], ascending=True)\n",
    "dev = dev.sort_values(['length'], ascending=True)"
   ]
  },
  {
   "cell_type": "code",
   "execution_count": 29,
   "metadata": {
    "collapsed": true
   },
   "outputs": [],
   "source": [
    "tree_dat = tree_dat.sort_values(['length'], ascending=True)"
   ]
  },
  {
   "cell_type": "code",
   "execution_count": 31,
   "metadata": {
    "collapsed": true
   },
   "outputs": [],
   "source": [
    "location ='/home/user1/Surbhi/cnn-text-classification-tf/data/'"
   ]
  },
  {
   "cell_type": "code",
   "execution_count": 30,
   "metadata": {
    "collapsed": true
   },
   "outputs": [],
   "source": [
    "train.to_pickle(location+\"train.pkl\")\n",
    "test.to_pickle(location+\"test.pkl\")\n",
    "dev.to_pickle(location+\"dev.pkl\")"
   ]
  },
  {
   "cell_type": "code",
   "execution_count": 6,
   "metadata": {
    "collapsed": true
   },
   "outputs": [],
   "source": [
    "import pandas as pd\n",
    "train = pd.read_pickle(location+\"train.pkl\")"
   ]
  },
  {
   "cell_type": "code",
   "execution_count": 8,
   "metadata": {
    "collapsed": true
   },
   "outputs": [],
   "source": [
    "dat_list = list(train['review'])"
   ]
  },
  {
   "cell_type": "code",
   "execution_count": 35,
   "metadata": {
    "collapsed": true
   },
   "outputs": [],
   "source": [
    "tree_dat.to_pickle(location+\"data_1.pkl\")"
   ]
  },
  {
   "cell_type": "code",
   "execution_count": 33,
   "metadata": {},
   "outputs": [
    {
     "data": {
      "text/plain": [
       "71180"
      ]
     },
     "execution_count": 33,
     "metadata": {},
     "output_type": "execute_result"
    }
   ],
   "source": [
    "len(tree_dat)"
   ]
  },
  {
   "cell_type": "code",
   "execution_count": 34,
   "metadata": {
    "collapsed": true
   },
   "outputs": [],
   "source": [
    "tree_dat['rating'] = tree_dat['rating']-1"
   ]
  },
  {
   "cell_type": "code",
   "execution_count": 41,
   "metadata": {},
   "outputs": [
    {
     "data": {
      "text/plain": [
       "['i excepted a lot from this movie , and it did deliver .',\n",
       " 'there is some great buddhist wisdom in this movie .',\n",
       " 'the real dalai lama is a very interesting person , and i think there is a lot of wisdom in buddhism .',\n",
       " 'the music , of course , sounds like because it is by philip glass .',\n",
       " 'this adds to the beauty of the movie .',\n",
       " 'whereas other biographies of famous people tend to get very poor this movie always stays focused and gives a good and honest portrayal of the dalai lama .',\n",
       " 'all things being equal , it is a great movie , and i really enjoyed it .',\n",
       " 'it is not like taxi driver of course but as a biography of a famous person it is really a great film indeed .']"
      ]
     },
     "execution_count": 41,
     "metadata": {},
     "output_type": "execute_result"
    }
   ],
   "source": [
    "tree_dat['Sent'][0]"
   ]
  },
  {
   "cell_type": "code",
   "execution_count": null,
   "metadata": {
    "collapsed": true
   },
   "outputs": [],
   "source": []
  }
 ],
 "metadata": {
  "kernelspec": {
   "display_name": "Python 2",
   "language": "python",
   "name": "python2"
  },
  "language_info": {
   "codemirror_mode": {
    "name": "ipython",
    "version": 2
   },
   "file_extension": ".py",
   "mimetype": "text/x-python",
   "name": "python",
   "nbconvert_exporter": "python",
   "pygments_lexer": "ipython2",
   "version": "2.7.15"
  }
 },
 "nbformat": 4,
 "nbformat_minor": 2
}
